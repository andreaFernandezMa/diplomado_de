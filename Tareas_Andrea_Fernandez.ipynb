{
  "nbformat": 4,
  "nbformat_minor": 0,
  "metadata": {
    "colab": {
      "provenance": [],
      "collapsed_sections": [
        "t7pKJ5yqhObG",
        "yiZj80P1hoJT",
        "LEPiPxoKFGdg",
        "yRkP-nWrsGa4",
        "0JbbtdwasN8b",
        "iSuDaBr3sbxi",
        "kyiRbf8NsqXi",
        "MjA4nvKUtY6E",
        "gEFLNvPVts6K",
        "zplgUDe0oTbV",
        "z_q3FcMcofUh",
        "ACgiU5Yioi2Z",
        "dvVSZvWIy6yj",
        "VNS9OR8OcHEJ",
        "UYt9jbitFoYA",
        "47St23wlPSrN",
        "eDy_Kqv9hvxm",
        "-v2YxPrG1KAx",
        "KOOaOovgs5af",
        "ME-EP0bqtqTd",
        "uXEQZ_Zls_j-",
        "XH9q80n51PyH",
        "FvZIsfLyHImv"
      ],
      "mount_file_id": "16HC3K68d3l4FujWnJsxVHq1QtLZhc8JG",
      "authorship_tag": "ABX9TyMJfTSHjUnndvdKShk6p1Gf",
      "include_colab_link": true
    },
    "kernelspec": {
      "name": "python3",
      "display_name": "Python 3"
    },
    "language_info": {
      "name": "python"
    }
  },
  "cells": [
    {
      "cell_type": "markdown",
      "metadata": {
        "id": "view-in-github",
        "colab_type": "text"
      },
      "source": [
        "<a href=\"https://colab.research.google.com/github/andreaFernandezMa/diplomado_de/blob/main/Tareas_Andrea_Fernandez.ipynb\" target=\"_parent\"><img src=\"https://colab.research.google.com/assets/colab-badge.svg\" alt=\"Open In Colab\"/></a>"
      ]
    },
    {
      "cell_type": "markdown",
      "source": [
        "# Pyspark Install"
      ],
      "metadata": {
        "id": "t7pKJ5yqhObG"
      }
    },
    {
      "cell_type": "code",
      "execution_count": 3,
      "metadata": {
        "colab": {
          "base_uri": "https://localhost:8080/"
        },
        "id": "gqpG-9rkgxov",
        "outputId": "46fc5ea3-ae56-4a0d-d6ff-ea1ec544fa12"
      },
      "outputs": [
        {
          "output_type": "stream",
          "name": "stdout",
          "text": [
            "\r0% [Working]\r            \rGet:1 http://ppa.launchpad.net/c2d4u.team/c2d4u4.0+/ubuntu bionic InRelease [15.9 kB]\n",
            "\r0% [Waiting for headers] [Waiting for headers] [Connected to cloud.r-project.or\r                                                                               \rIgn:2 https://developer.download.nvidia.com/compute/machine-learning/repos/ubuntu1804/x86_64  InRelease\n",
            "\r0% [Waiting for headers] [Waiting for headers] [Connected to cloud.r-project.or\r                                                                               \rHit:3 https://developer.download.nvidia.com/compute/cuda/repos/ubuntu1804/x86_64  InRelease\n",
            "\r0% [Waiting for headers] [Waiting for headers] [Waiting for headers] [1 InRelea\r                                                                               \rGet:4 https://cloud.r-project.org/bin/linux/ubuntu bionic-cran40/ InRelease [3,626 B]\n",
            "\r0% [Waiting for headers] [Waiting for headers] [1 InRelease 14.2 kB/15.9 kB 89%\r0% [3 InRelease gpgv 1,581 B] [Waiting for headers] [Waiting for headers] [Wait\r                                                                               \rHit:5 https://developer.download.nvidia.com/compute/machine-learning/repos/ubuntu1804/x86_64  Release\n",
            "\r0% [3 InRelease gpgv 1,581 B] [Waiting for headers] [Waiting for headers] [1 In\r                                                                               \rGet:6 http://security.ubuntu.com/ubuntu bionic-security InRelease [88.7 kB]\n",
            "Hit:7 http://archive.ubuntu.com/ubuntu bionic InRelease\n",
            "Get:8 http://archive.ubuntu.com/ubuntu bionic-updates InRelease [88.7 kB]\n",
            "Hit:9 http://ppa.launchpad.net/cran/libgit2/ubuntu bionic InRelease\n",
            "Hit:10 http://ppa.launchpad.net/deadsnakes/ppa/ubuntu bionic InRelease\n",
            "Get:11 http://archive.ubuntu.com/ubuntu bionic-backports InRelease [74.6 kB]\n",
            "Get:12 https://cloud.r-project.org/bin/linux/ubuntu bionic-cran40/ Packages [92.1 kB]\n",
            "Hit:13 http://ppa.launchpad.net/graphics-drivers/ppa/ubuntu bionic InRelease\n",
            "Get:15 http://ppa.launchpad.net/c2d4u.team/c2d4u4.0+/ubuntu bionic/main Sources [2,108 kB]\n",
            "Get:16 http://security.ubuntu.com/ubuntu bionic-security/main amd64 Packages [2,965 kB]\n",
            "Get:17 http://archive.ubuntu.com/ubuntu bionic-updates/universe amd64 Packages [2,318 kB]\n",
            "Get:18 http://ppa.launchpad.net/c2d4u.team/c2d4u4.0+/ubuntu bionic/main amd64 Packages [1,080 kB]\n",
            "Get:19 http://security.ubuntu.com/ubuntu bionic-security/universe amd64 Packages [1,540 kB]\n",
            "Get:20 http://archive.ubuntu.com/ubuntu bionic-updates/main amd64 Packages [3,397 kB]\n",
            "Fetched 13.8 MB in 4s (3,609 kB/s)\n",
            "Reading package lists... Done\n"
          ]
        }
      ],
      "source": [
        "# descomentar esta linea si falla al instalar openjdk\n",
        "!apt-get update"
      ]
    },
    {
      "cell_type": "code",
      "source": [
        "#Instalacion jdk y descargando spark\n",
        "!apt-get install openjdk-8-jdk-headless -qq > /dev/null\n",
        "!wget -q https://archive.apache.org/dist/spark/spark-3.0.0/spark-3.0.0-bin-hadoop3.2.tgz\n",
        "!tar xf spark-3.0.0-bin-hadoop3.2.tgz"
      ],
      "metadata": {
        "id": "UMu3O2DohNoF"
      },
      "execution_count": 4,
      "outputs": []
    },
    {
      "cell_type": "code",
      "source": [
        "#Instalación findspark\n",
        "!pip install -q findspark\n",
        "#Seteo de variables\n",
        "import os\n",
        "os.environ[\"JAVA_HOME\"] = \"/usr/lib/jvm/java-8-openjdk-amd64\"\n",
        "os.environ[\"SPARK_HOME\"] = \"/content/spark-3.0.0-bin-hadoop3.2\""
      ],
      "metadata": {
        "id": "8XZ0zS6MhiTU"
      },
      "execution_count": 5,
      "outputs": []
    },
    {
      "cell_type": "code",
      "source": [
        "#Instalar paquete pyspark\n",
        "!pip install pyspark"
      ],
      "metadata": {
        "colab": {
          "base_uri": "https://localhost:8080/"
        },
        "id": "NAO2RbLGhltj",
        "outputId": "084a7b12-0edc-47f4-c3f6-fe7dc5fe16a0"
      },
      "execution_count": 6,
      "outputs": [
        {
          "output_type": "stream",
          "name": "stdout",
          "text": [
            "Looking in indexes: https://pypi.org/simple, https://us-python.pkg.dev/colab-wheels/public/simple/\n",
            "Collecting pyspark\n",
            "  Downloading pyspark-3.3.0.tar.gz (281.3 MB)\n",
            "\u001b[K     |████████████████████████████████| 281.3 MB 45 kB/s \n",
            "\u001b[?25hCollecting py4j==0.10.9.5\n",
            "  Downloading py4j-0.10.9.5-py2.py3-none-any.whl (199 kB)\n",
            "\u001b[K     |████████████████████████████████| 199 kB 58.3 MB/s \n",
            "\u001b[?25hBuilding wheels for collected packages: pyspark\n",
            "  Building wheel for pyspark (setup.py) ... \u001b[?25l\u001b[?25hdone\n",
            "  Created wheel for pyspark: filename=pyspark-3.3.0-py2.py3-none-any.whl size=281764026 sha256=41da24c5a66114ce4fe9f92e9257d0e0712fb17c5b2a5eb44e8da980fa1650f2\n",
            "  Stored in directory: /root/.cache/pip/wheels/7a/8e/1b/f73a52650d2e5f337708d9f6a1750d451a7349a867f928b885\n",
            "Successfully built pyspark\n",
            "Installing collected packages: py4j, pyspark\n",
            "Successfully installed py4j-0.10.9.5 pyspark-3.3.0\n"
          ]
        }
      ]
    },
    {
      "cell_type": "markdown",
      "source": [
        "#Crear SparkSession"
      ],
      "metadata": {
        "id": "yiZj80P1hoJT"
      }
    },
    {
      "cell_type": "code",
      "source": [
        "#Iniciar SparkSession\n",
        "import findspark\n",
        "findspark.init()\n",
        "from pyspark.sql import SparkSession\n",
        "spark = SparkSession.builder.master(\"local[*]\").getOrCreate()"
      ],
      "metadata": {
        "id": "3IMqaX-GhsyM"
      },
      "execution_count": 7,
      "outputs": []
    },
    {
      "cell_type": "code",
      "source": [
        "#Otras Librerias\n",
        "from pyspark.sql.functions import *\n"
      ],
      "metadata": {
        "id": "D5Qwc2VMrf7b"
      },
      "execution_count": 8,
      "outputs": []
    },
    {
      "cell_type": "code",
      "source": [
        "#Conectar google drive con Colab\n",
        "from google.colab import drive\n",
        "drive.mount('/content/drive')"
      ],
      "metadata": {
        "colab": {
          "base_uri": "https://localhost:8080/"
        },
        "id": "s5MgPY8OhzIm",
        "outputId": "ca624bfc-9a35-41d0-b637-b4488ce9d630"
      },
      "execution_count": 9,
      "outputs": [
        {
          "output_type": "stream",
          "name": "stdout",
          "text": [
            "Drive already mounted at /content/drive; to attempt to forcibly remount, call drive.mount(\"/content/drive\", force_remount=True).\n"
          ]
        }
      ]
    },
    {
      "cell_type": "markdown",
      "source": [
        "# TAREA 1"
      ],
      "metadata": {
        "id": "LEPiPxoKFGdg"
      }
    },
    {
      "cell_type": "markdown",
      "source": [
        "## Parte 1 (30%)\n",
        "\n",
        "Utilizando el dataset de [Walmart Stock](https://drive.google.com/file/d/154-RydBa4MOaubvLsiiGtc2HJW1alCkv/view?usp=sharing) realice lo siguiente:\n",
        "\n",
        "*   Inicie una sesión de Spark\n",
        "*   Cargue el archivo de Walmart Stock csv desde su cuenta Drive a un dataframe, permita que spark infiera el schema y tipos de datos\n",
        "*   imprima el schema, si no es correcto, cree usted el schema y cargue de nuevo el archivo.\n",
        "*   Imprima las primeras 5 filas\n",
        "*   Relice un *Describe* de la data\n",
        "*   Cree un nuevo Dataframe con una columna llamada **HV Ratio** el cual tenga la tasa entre **High** versus **Volume** \n",
        "*   Determine la media de la columna **Close**\n",
        "*   Determine el máximo valor de **High** por año.\n",
        "*   Determine el promedio de **Close** por cada mes."
      ],
      "metadata": {
        "id": "XcikMIv4h_BF"
      }
    },
    {
      "cell_type": "markdown",
      "source": [
        "####Inicie una sesión de Spark"
      ],
      "metadata": {
        "id": "yRkP-nWrsGa4"
      }
    },
    {
      "cell_type": "code",
      "source": [
        "#Inicie una sesión de Spark\n",
        "#comprobar que la sesion de spark esta ok\n",
        "spark"
      ],
      "metadata": {
        "colab": {
          "base_uri": "https://localhost:8080/",
          "height": 0
        },
        "id": "gwWQ4zoNj4hy",
        "outputId": "18fdfd84-16de-4c03-8a7b-b58b497e3649"
      },
      "execution_count": 10,
      "outputs": [
        {
          "output_type": "execute_result",
          "data": {
            "text/plain": [
              "<pyspark.sql.session.SparkSession at 0x7fbbbc94ed90>"
            ],
            "text/html": [
              "\n",
              "            <div>\n",
              "                <p><b>SparkSession - in-memory</b></p>\n",
              "                \n",
              "        <div>\n",
              "            <p><b>SparkContext</b></p>\n",
              "\n",
              "            <p><a href=\"http://2cc769023ab5:4040\">Spark UI</a></p>\n",
              "\n",
              "            <dl>\n",
              "              <dt>Version</dt>\n",
              "                <dd><code>v3.0.0</code></dd>\n",
              "              <dt>Master</dt>\n",
              "                <dd><code>local[*]</code></dd>\n",
              "              <dt>AppName</dt>\n",
              "                <dd><code>pyspark-shell</code></dd>\n",
              "            </dl>\n",
              "        </div>\n",
              "        \n",
              "            </div>\n",
              "        "
            ]
          },
          "metadata": {},
          "execution_count": 10
        }
      ]
    },
    {
      "cell_type": "markdown",
      "source": [
        "####Cargue el archivo de Walmart Stock csv\n",
        "\n",
        "Se creo el schema debido a que los datos eraan leidos como string"
      ],
      "metadata": {
        "id": "0JbbtdwasN8b"
      }
    },
    {
      "cell_type": "code",
      "source": [
        "from pyspark.sql.types import (\n",
        "    DateType,\n",
        "    FloatType,\n",
        "    IntegerType,\n",
        "    StructType,\n",
        "    StructField, \n",
        "    StringType, \n",
        "    IntegerType,\n",
        "    LongType,\n",
        "    DecimalType,\n",
        "    BooleanType\n",
        ")"
      ],
      "metadata": {
        "id": "xa62kyvXTfWZ"
      },
      "execution_count": 11,
      "outputs": []
    },
    {
      "cell_type": "code",
      "source": [
        "#Creacion de schema\n",
        "walmart_schema = StructType(\n",
        "    [\n",
        "        StructField('Date', DateType(), False),\n",
        "        StructField('Open',FloatType(), False),\n",
        "        StructField('High',FloatType(), False),\n",
        "        StructField('Low',FloatType(), False),\n",
        "        StructField('Close',FloatType(), False),\n",
        "        StructField('Volume',IntegerType(), False),\n",
        "        StructField('Adj Close',FloatType(), False),\n",
        "   ]\n",
        ")"
      ],
      "metadata": {
        "id": "HWxJ_RAUSDGT"
      },
      "execution_count": 12,
      "outputs": []
    },
    {
      "cell_type": "code",
      "source": [
        "#Cargue el archivo de Walmart Stock csv desde su cuenta Drive a un dataframe, permita que spark infiera el schema y tipos de datos\n",
        "walmart = '/content/drive/MyDrive/M6/Tarea1/parte1/walmart_stock.csv'\n",
        "#df_walmart = spark.read.csv(walmart, header=True, inferSchema=True) \n",
        "df_walmart = spark.read.csv(walmart, header=True, schema=walmart_schema) "
      ],
      "metadata": {
        "id": "obdFFBgki-BO"
      },
      "execution_count": 14,
      "outputs": []
    },
    {
      "cell_type": "markdown",
      "source": [
        "####imprima el schema\n",
        "Se importaron los formatos que necesitaremos para poder desarrollar el ejercicio"
      ],
      "metadata": {
        "id": "iSuDaBr3sbxi"
      }
    },
    {
      "cell_type": "code",
      "source": [
        "#imprima el schema, si no es correcto, cree usted el schema y cargue de nuevo el archivo.\n",
        "df_walmart.printSchema() "
      ],
      "metadata": {
        "colab": {
          "base_uri": "https://localhost:8080/"
        },
        "id": "11rIIw5nkhvy",
        "outputId": "c4861197-1c54-41f4-f6e2-5b79786e5f43"
      },
      "execution_count": 15,
      "outputs": [
        {
          "output_type": "stream",
          "name": "stdout",
          "text": [
            "root\n",
            " |-- Date: date (nullable = true)\n",
            " |-- Open: float (nullable = true)\n",
            " |-- High: float (nullable = true)\n",
            " |-- Low: float (nullable = true)\n",
            " |-- Close: float (nullable = true)\n",
            " |-- Volume: integer (nullable = true)\n",
            " |-- Adj Close: float (nullable = true)\n",
            "\n"
          ]
        }
      ]
    },
    {
      "cell_type": "markdown",
      "source": [
        "####Imprima las primeras 5 filas"
      ],
      "metadata": {
        "id": "kyiRbf8NsqXi"
      }
    },
    {
      "cell_type": "code",
      "source": [
        "#Imprima las primeras 5 filas\n",
        "df_walmart.show(5)"
      ],
      "metadata": {
        "colab": {
          "base_uri": "https://localhost:8080/"
        },
        "id": "MMjdPK-9lpvN",
        "outputId": "890fa4e9-84fb-49c3-b60d-39bacabb0ea7"
      },
      "execution_count": 16,
      "outputs": [
        {
          "output_type": "stream",
          "name": "stdout",
          "text": [
            "+----------+-----+-----+-----+-----+--------+---------+\n",
            "|      Date| Open| High|  Low|Close|  Volume|Adj Close|\n",
            "+----------+-----+-----+-----+-----+--------+---------+\n",
            "|2012-01-03|59.97|61.06|59.87|60.33|12668800|52.619236|\n",
            "|2012-01-04|60.21|60.35|59.47|59.71| 9593300|52.078476|\n",
            "|2012-01-05|59.35|59.62|58.37|59.42|12768200| 51.82554|\n",
            "|2012-01-06|59.42|59.45|58.87| 59.0| 8069400| 51.45922|\n",
            "|2012-01-09|59.03|59.55|58.92|59.18| 6679300|51.616215|\n",
            "+----------+-----+-----+-----+-----+--------+---------+\n",
            "only showing top 5 rows\n",
            "\n"
          ]
        }
      ]
    },
    {
      "cell_type": "markdown",
      "source": [
        "####Relice un Describe de la data"
      ],
      "metadata": {
        "id": "MjA4nvKUtY6E"
      }
    },
    {
      "cell_type": "code",
      "source": [
        "# Relice un Describe de la data\n",
        "df_walmart.describe()"
      ],
      "metadata": {
        "colab": {
          "base_uri": "https://localhost:8080/"
        },
        "id": "mSi6mFPql9az",
        "outputId": "4f4e50f7-a937-4466-c016-a6be32bcef5b"
      },
      "execution_count": 17,
      "outputs": [
        {
          "output_type": "execute_result",
          "data": {
            "text/plain": [
              "DataFrame[summary: string, Open: string, High: string, Low: string, Close: string, Volume: string, Adj Close: string]"
            ]
          },
          "metadata": {},
          "execution_count": 17
        }
      ]
    },
    {
      "cell_type": "markdown",
      "source": [
        "####Cree un nuevo Dataframe \n",
        "Con una columna llamada HV Ratio el cual tenga la tasa entre High versus Volume"
      ],
      "metadata": {
        "id": "gEFLNvPVts6K"
      }
    },
    {
      "cell_type": "code",
      "source": [
        "#Cree un nuevo Dataframe con una columna llamada HV Ratio el cual tenga la tasa entre High versus Volume\n",
        "df_walmart2 = df_walmart.withColumn('HV', col('High')/col('Volume'))"
      ],
      "metadata": {
        "id": "ksNP9rErlGkc"
      },
      "execution_count": 18,
      "outputs": []
    },
    {
      "cell_type": "code",
      "source": [
        "df_walmart2.show()"
      ],
      "metadata": {
        "colab": {
          "base_uri": "https://localhost:8080/"
        },
        "id": "zsq3v2ammwas",
        "outputId": "1d693edc-d44c-4dfa-ecf2-3c5eb0a9d351"
      },
      "execution_count": 19,
      "outputs": [
        {
          "output_type": "stream",
          "name": "stdout",
          "text": [
            "+----------+-----+-----+-----+-----+--------+---------+--------------------+\n",
            "|      Date| Open| High|  Low|Close|  Volume|Adj Close|                  HV|\n",
            "+----------+-----+-----+-----+-----+--------+---------+--------------------+\n",
            "|2012-01-03|59.97|61.06|59.87|60.33|12668800|52.619236|4.819714682786927E-6|\n",
            "|2012-01-04|60.21|60.35|59.47|59.71| 9593300|52.078476|6.290848662516662E-6|\n",
            "|2012-01-05|59.35|59.62|58.37|59.42|12768200| 51.82554| 4.66941298944916E-6|\n",
            "|2012-01-06|59.42|59.45|58.87| 59.0| 8069400| 51.45922| 7.36733843444859E-6|\n",
            "|2012-01-09|59.03|59.55|58.92|59.18| 6679300|51.616215|8.915604814435727E-6|\n",
            "|2012-01-10|59.43|59.71|58.98|59.04| 6907300| 51.49411|8.644477449144044E-6|\n",
            "|2012-01-11|59.06|59.53|59.04| 59.4| 6365600|51.808098|9.351828386844425E-6|\n",
            "|2012-01-12|59.79| 60.0| 59.4| 59.5| 7236400|51.895317| 8.29141562102703E-6|\n",
            "|2012-01-13|59.18|59.61|59.01|59.54| 7729300|51.930202|7.712212051589609E-6|\n",
            "|2012-01-17|59.87|60.11|59.52|59.85| 8500000| 52.20058|7.071764777688419...|\n",
            "|2012-01-18|59.79|60.03|59.65|60.01| 5911400| 52.34013|1.015495462653464...|\n",
            "|2012-01-19|59.93|60.73|59.75|60.61| 9234600|52.863445|  6.5763540967921E-6|\n",
            "|2012-01-20|60.75|61.25|60.67|61.01|10378800|53.212322| 5.90145296180676E-6|\n",
            "|2012-01-23|60.81|60.98|60.51|60.91| 7134100|53.125103|8.547679390846264E-6|\n",
            "|2012-01-24|60.75| 62.0|60.75|61.39| 7362800|53.543755|8.420709512685392E-6|\n",
            "|2012-01-25|61.18|61.61|61.04|61.47| 5915800| 53.61353|1.041448335142357...|\n",
            "|2012-01-26| 61.8|61.84|60.77|60.97| 7436200|53.177437|8.316075435382035E-6|\n",
            "|2012-01-27|60.86|61.12|60.54|60.71| 6287300|52.950665|9.721183804158345E-6|\n",
            "|2012-01-30|60.47|61.32|60.35| 61.3| 7636900|53.465256|8.029435987746889E-6|\n",
            "|2012-01-31|61.53|61.57|60.58|61.36| 9761500| 53.51759|6.307432228123159E-6|\n",
            "+----------+-----+-----+-----+-----+--------+---------+--------------------+\n",
            "only showing top 20 rows\n",
            "\n"
          ]
        }
      ]
    },
    {
      "cell_type": "markdown",
      "source": [
        "####Determine la media de la columna Close"
      ],
      "metadata": {
        "id": "zplgUDe0oTbV"
      }
    },
    {
      "cell_type": "code",
      "source": [
        "#Determine la media de la columna Close\n",
        "df_walmart.select(avg('Close').alias('promedio_close')).show()"
      ],
      "metadata": {
        "colab": {
          "base_uri": "https://localhost:8080/"
        },
        "id": "tHbkjHhGskiS",
        "outputId": "34bcc8ff-c711-4c09-a414-6176e5fdd50c"
      },
      "execution_count": 20,
      "outputs": [
        {
          "output_type": "stream",
          "name": "stdout",
          "text": [
            "+-----------------+\n",
            "|   promedio_close|\n",
            "+-----------------+\n",
            "|72.38844997363553|\n",
            "+-----------------+\n",
            "\n"
          ]
        }
      ]
    },
    {
      "cell_type": "markdown",
      "source": [
        "####Determine el máximo valor de High por año"
      ],
      "metadata": {
        "id": "z_q3FcMcofUh"
      }
    },
    {
      "cell_type": "code",
      "source": [
        "df_walmart2.groupBy(year(col('Date')).alias('Año')).max('High').show()"
      ],
      "metadata": {
        "colab": {
          "base_uri": "https://localhost:8080/"
        },
        "id": "a0Qp-G8K-Cm2",
        "outputId": "044d3d73-7ea7-43ce-b6a3-6d4ab663dca0"
      },
      "execution_count": 21,
      "outputs": [
        {
          "output_type": "stream",
          "name": "stdout",
          "text": [
            "+----+---------+\n",
            "| Año|max(High)|\n",
            "+----+---------+\n",
            "|2015|    90.97|\n",
            "|2013|    81.37|\n",
            "|2014|    88.09|\n",
            "|2012|     77.6|\n",
            "|2016|    75.19|\n",
            "+----+---------+\n",
            "\n"
          ]
        }
      ]
    },
    {
      "cell_type": "markdown",
      "source": [
        "####Determine el promedio de Close por cada mes."
      ],
      "metadata": {
        "id": "ACgiU5Yioi2Z"
      }
    },
    {
      "cell_type": "code",
      "source": [
        "df_walmart2.groupBy(month(col('Date')).alias('Mes')).avg('Close').show()"
      ],
      "metadata": {
        "colab": {
          "base_uri": "https://localhost:8080/"
        },
        "id": "f3fOQLkLoiRR",
        "outputId": "c4062e01-70bd-444c-83be-94d740274b85"
      },
      "execution_count": 22,
      "outputs": [
        {
          "output_type": "stream",
          "name": "stdout",
          "text": [
            "+---+-----------------+\n",
            "|Mes|       avg(Close)|\n",
            "+---+-----------------+\n",
            "| 12|72.84792482628012|\n",
            "|  1| 71.4480196131338|\n",
            "|  6| 72.4953774506191|\n",
            "|  3|71.77794376266337|\n",
            "|  5|72.30971685445533|\n",
            "|  9|72.18411782208611|\n",
            "|  4|72.97361900692894|\n",
            "|  8| 73.0298185521906|\n",
            "|  7|74.43971944078106|\n",
            "| 10| 71.5785454489968|\n",
            "| 11|72.11108927207418|\n",
            "|  2|71.30680438169499|\n",
            "+---+-----------------+\n",
            "\n"
          ]
        }
      ]
    },
    {
      "cell_type": "markdown",
      "source": [
        "## Parte 2 (70%)"
      ],
      "metadata": {
        "id": "dvVSZvWIy6yj"
      }
    },
    {
      "cell_type": "markdown",
      "source": [
        "Se tiene data de logs en JSON comprimidos que se almacenan cada una hora, se pretende enviar los logs de la hora anterior a la actual a una API, pero es necesario realizar un procesamiento de ellos primero. Los campos de los logs se definen de la siguiente manera:\n",
        "\n",
        "- `index_name`: correponde a un `string`el cual es un indexador del log y no puede ser `null`.\n",
        "- `detail`: es un diccionario tipo JSON, su estructura es dinámica y puede variar según el log. No puede ser `null`.\n",
        "- `timestamp`: corresponde al timestamp en unix epoch del instante en que fué generado el log. Debe ser un entero, pero no siempre llega así, tampoco puede ser `null`.\n",
        "- `group_by`: campo opcional, el cual corresponde a un string que sirve para agrupar el log.\n",
        "- `tags`: campo opcional, correponde a un array de strings para permitir hacer indexar los logs en la API y realizar queries más eficientes.\n",
        "\n",
        "Usted debe procesar los logs en un notebook de python con PySpark y escribir la data resultante de manera que cumpla con lo siguiente:\n",
        "\n",
        "- El archivo final debe contar con `index_name`, `detail`, `timestamp` y `tags`.\n",
        "- En caso de que exista `group_by` para un log, debe ser añadido al array de `tags`.\n",
        "- Si un log no tiene `tags` o es `null`, debe retornar un array vacío.\n",
        "- Asegurarse de que el campo `timestamp` sea de tipo entero. (Hint: cast y round)\n",
        "- Debe crear un schema para procesar la data, si bien con grandes volumenes de datos se infiere bien, para pocos logs puede no inferir correctamente.\n",
        "- Debe guardar la data procesada como archivo tipo JSON particionada en su Google Drive.\n",
        "- La data debe estar particionada por:\n",
        "  - `env`: corresponde al ambiente de ejecución (prod y qa)\n",
        "  - `index`: correpsonde al mismo valor de `index_name`.\n",
        "  - `group_by`: valor que ya viene en `group_by`, en caso de ser null, asignar valor: `NO_GROUP`\n",
        "  - `Year`, `Month`, `Day`, `Hour`, donde cada una de esas columnas corresponde a la hora de los logs en el path (hora anterior)\n",
        "\n",
        "Ejemplo ruta de salida:\n",
        "`drive/MyDrive/.../env=prod/index=dummy_index/group_by=NO_GROUP/year=2022/month=08/day=17/hour=21/filename.json`\n",
        "\n",
        "Ejemplo archivo de salida:\n",
        "```\n",
        "{\n",
        "  \"index_name\" : \"dummy_name\",\n",
        "  \"detail\" : {#some dummy dict}\n",
        "  \"timestamp\": 1231231321\n",
        "  \"tags\" : [\"tag_0\",....,\"tag_n\"]\n",
        "}\n",
        "```\n",
        "\n",
        "Consideraciones:\n",
        "- Asuma que la data que se encuentra en el path de Googe Drive es de la hora pasada a la actual.\n",
        "- En la creación de su Schema considere que algunos campos no siempre tendrán la misma estructura, para ello simplemente tratelos como `String`.\n",
        "- Para el ambiente, simplemente realice la ejecución 2 veces, una con `qa` y otra con `prod`.\n",
        "- Note que para particionar por fecha debe tomar la hora actual y restarle una hora (libería datetime en python)."
      ],
      "metadata": {
        "id": "zpzbCh9OzU-L"
      }
    },
    {
      "cell_type": "markdown",
      "source": [
        "####Unir archivos en 1 dataframe\n",
        "Una vez unida la data podemos tener visualizacion, esto nos ayudará a saber si se debe hacer algun cambio"
      ],
      "metadata": {
        "id": "VNS9OR8OcHEJ"
      }
    },
    {
      "cell_type": "code",
      "source": [
        "input_path_order_data = '/content/drive/MyDrive/M6/Tarea1/parte2'\n",
        "order_df = spark.read.json(input_path_order_data)"
      ],
      "metadata": {
        "id": "dplKAYBmcRi_"
      },
      "execution_count": 23,
      "outputs": []
    },
    {
      "cell_type": "code",
      "source": [
        "order_df.printSchema() "
      ],
      "metadata": {
        "colab": {
          "base_uri": "https://localhost:8080/"
        },
        "id": "Grr5JtW1eQwX",
        "outputId": "cce39d8d-7301-484c-e47c-3f1659b3238d"
      },
      "execution_count": 24,
      "outputs": [
        {
          "output_type": "stream",
          "name": "stdout",
          "text": [
            "root\n",
            " |-- detail: struct (nullable = true)\n",
            " |    |-- date: string (nullable = true)\n",
            " |    |-- item_uuid: string (nullable = true)\n",
            " |    |-- last_date_check: string (nullable = true)\n",
            " |    |-- number_of_products: long (nullable = true)\n",
            " |    |-- order_uuid: string (nullable = true)\n",
            " |    |-- shopper_id: long (nullable = true)\n",
            " |    |-- status: string (nullable = true)\n",
            " |    |-- store_id: long (nullable = true)\n",
            " |-- group_by: string (nullable = true)\n",
            " |-- index_name: string (nullable = true)\n",
            " |-- tags: array (nullable = true)\n",
            " |    |-- element: string (containsNull = true)\n",
            " |-- timestamp: double (nullable = true)\n",
            "\n"
          ]
        }
      ]
    },
    {
      "cell_type": "code",
      "source": [
        "order_df.show(5)"
      ],
      "metadata": {
        "colab": {
          "base_uri": "https://localhost:8080/"
        },
        "id": "Uo0At-1oDDWV",
        "outputId": "1dd92109-62ab-4852-9114-d1b63d1c5214"
      },
      "execution_count": 25,
      "outputs": [
        {
          "output_type": "stream",
          "name": "stdout",
          "text": [
            "+--------------------+----------+-------------------+------------+------------+\n",
            "|              detail|  group_by|         index_name|        tags|   timestamp|\n",
            "+--------------------+----------+-------------------+------------+------------+\n",
            "|[2022/08/05,,,, f...| Delivered|shoppers_dispatcher|[tag3, tag2]|1.66079041E9|\n",
            "|[2022/08/16,,,, f...|Dispatched|shoppers_dispatcher|[tag3, tag3]|1.66079041E9|\n",
            "|[2022/08/16,,,, f...| Scheduled|shoppers_dispatcher|[tag1, tag2]|1.66079041E9|\n",
            "|[2022/08/03,,,, 2...| Scheduled|shoppers_dispatcher|[tag3, tag0]|1.66079041E9|\n",
            "|[2022/08/04,,,, 4...| Delivered|shoppers_dispatcher|        null|1.66079041E9|\n",
            "+--------------------+----------+-------------------+------------+------------+\n",
            "only showing top 5 rows\n",
            "\n"
          ]
        }
      ]
    },
    {
      "cell_type": "markdown",
      "source": [
        "####Esquema data"
      ],
      "metadata": {
        "id": "UYt9jbitFoYA"
      }
    },
    {
      "cell_type": "code",
      "source": [
        "order_schema = StructType(\n",
        "    [\n",
        "        StructField('index_name', StringType(), False),\n",
        "        StructField('detail',StringType(), False),\n",
        "        StructField('timestamp',IntegerType(), False),\n",
        "        StructField('tags',StringType(), True),\n",
        "        StructField('group_by', StringType(), True),\n",
        "   ]\n",
        ")"
      ],
      "metadata": {
        "id": "CaIvT7V8GGJV"
      },
      "execution_count": 26,
      "outputs": []
    },
    {
      "cell_type": "code",
      "source": [
        "order_df2 = spark.read.json(input_path_order_data,schema=order_schema)"
      ],
      "metadata": {
        "id": "e8AHIVYxIxSK"
      },
      "execution_count": 27,
      "outputs": []
    },
    {
      "cell_type": "code",
      "source": [
        "order_df2.show(5)"
      ],
      "metadata": {
        "colab": {
          "base_uri": "https://localhost:8080/"
        },
        "id": "gcnJmVuqLfPi",
        "outputId": "4e150b10-a05a-400a-d526-e9d4ba4018b6"
      },
      "execution_count": 28,
      "outputs": [
        {
          "output_type": "stream",
          "name": "stdout",
          "text": [
            "+-------------------+--------------------+----------+---------------+----------+\n",
            "|         index_name|              detail| timestamp|           tags|  group_by|\n",
            "+-------------------+--------------------+----------+---------------+----------+\n",
            "|shoppers_dispatcher|{\"shopper_id\":353...|1660790410|[\"tag3\",\"tag2\"]| Delivered|\n",
            "|shoppers_dispatcher|{\"shopper_id\":689...|1660790410|[\"tag3\",\"tag3\"]|Dispatched|\n",
            "|shoppers_dispatcher|{\"shopper_id\":699...|1660790410|[\"tag1\",\"tag2\"]| Scheduled|\n",
            "|shoppers_dispatcher|{\"shopper_id\":210...|1660790410|[\"tag3\",\"tag0\"]| Scheduled|\n",
            "|shoppers_dispatcher|{\"shopper_id\":657...|1660790410|           null| Delivered|\n",
            "+-------------------+--------------------+----------+---------------+----------+\n",
            "only showing top 5 rows\n",
            "\n"
          ]
        }
      ]
    },
    {
      "cell_type": "code",
      "source": [
        "#Para reemplazar valor\n",
        "from pyspark.sql.functions import regexp_replace"
      ],
      "metadata": {
        "id": "ZwoZbdxrW0KP"
      },
      "execution_count": 29,
      "outputs": []
    },
    {
      "cell_type": "code",
      "source": [
        "order_formato_salida = order_df2.select('index_name','detail','timestamp','tags','group_by')"
      ],
      "metadata": {
        "id": "dC9R7KLgNX5Y"
      },
      "execution_count": 30,
      "outputs": []
    },
    {
      "cell_type": "markdown",
      "source": [
        "####Preparar data para guardar"
      ],
      "metadata": {
        "id": "47St23wlPSrN"
      }
    },
    {
      "cell_type": "code",
      "source": [
        "#importar libreria para poder trabajar con fechas\n",
        "from datetime import datetime, timedelta"
      ],
      "metadata": {
        "id": "FLk8UwycPG9H"
      },
      "execution_count": 31,
      "outputs": []
    },
    {
      "cell_type": "code",
      "source": [
        "current_time = datetime.utcnow()\n",
        "#hora anterior\n",
        "last_hour = current_time - timedelta(hours=1)\n",
        "env_prod = 'prod'\n",
        "env_qa = 'qa'"
      ],
      "metadata": {
        "id": "6RCVeEFSPHHM"
      },
      "execution_count": 32,
      "outputs": []
    },
    {
      "cell_type": "code",
      "source": [
        "order_formato_salida_prod = (\n",
        "    order_formato_salida.withColumn('env', lit(env_prod))\n",
        "    .withColumn('year', lit(last_hour.year))\n",
        "    .withColumn('month', lit(last_hour.month))\n",
        "    .withColumn('day', lit(last_hour.day))\n",
        "    .withColumn('hour', lit(last_hour.hour))\n",
        ")\n",
        "order_formato_salida_qa = (\n",
        "    order_formato_salida.withColumn('env', lit(env_qa))\n",
        "    .withColumn('year', lit(last_hour.year))\n",
        "    .withColumn('month', lit(last_hour.month))\n",
        "    .withColumn('day', lit(last_hour.day))\n",
        "    .withColumn('hour', lit(last_hour.hour))\n",
        ")"
      ],
      "metadata": {
        "id": "SVmTw0ulRLL_"
      },
      "execution_count": 33,
      "outputs": []
    },
    {
      "cell_type": "markdown",
      "source": [
        "####Particionar data"
      ],
      "metadata": {
        "id": "eDy_Kqv9hvxm"
      }
    },
    {
      "cell_type": "code",
      "source": [
        "#Donde seran guardadas las particiones\n",
        "output_path_prod = '/content/drive/MyDrive/M6/Tarea1/output_path/prod'\n",
        "output_path_qa = '/content/drive/MyDrive/M6/Tarea1/output_path/qa'"
      ],
      "metadata": {
        "id": "0OVohLeCTs9K"
      },
      "execution_count": 35,
      "outputs": []
    },
    {
      "cell_type": "code",
      "source": [
        "#guardar data prod particionada (la guarde 2 veces para ver como queda)\n",
        "order_formato_salida_prod.write.partitionBy(\n",
        "    'env','index_name', 'group_by', 'year', 'month', 'day', 'hour').mode('append').json(output_path_prod)  "
      ],
      "metadata": {
        "id": "mrBki8GPPHQp"
      },
      "execution_count": 36,
      "outputs": []
    },
    {
      "cell_type": "code",
      "source": [
        "#guardar data prod qa \n",
        "order_formato_salida_qa.write.partitionBy(\n",
        "    'env','index_name', 'group_by', 'year', 'month', 'day', 'hour').mode('append').json(output_path_qa)  "
      ],
      "metadata": {
        "id": "zonqUB5RkNh8"
      },
      "execution_count": 37,
      "outputs": []
    },
    {
      "cell_type": "markdown",
      "source": [
        "# TAREA 2"
      ],
      "metadata": {
        "id": "2MnKnfnA94Li"
      }
    },
    {
      "cell_type": "markdown",
      "source": [
        "##Inicio, cargar dato y asignar esquemas"
      ],
      "metadata": {
        "id": "-v2YxPrG1KAx"
      }
    },
    {
      "cell_type": "markdown",
      "source": [
        "###Cargar datos"
      ],
      "metadata": {
        "id": "KOOaOovgs5af"
      }
    },
    {
      "cell_type": "code",
      "source": [
        "dog_food = '/content/drive/MyDrive/M6/Tarea2/dog_food.csv'\n",
        "hack_data = '/content/drive/MyDrive/M6/Tarea2/hack_data.csv'"
      ],
      "metadata": {
        "id": "-ZsxsQsj970H"
      },
      "execution_count": 38,
      "outputs": []
    },
    {
      "cell_type": "markdown",
      "source": [
        "###Creacion Esquema"
      ],
      "metadata": {
        "id": "ME-EP0bqtqTd"
      }
    },
    {
      "cell_type": "code",
      "source": [
        "#Creacion de schema food_schema\n",
        "dog_food_schema = StructType(\n",
        "    [\n",
        "        StructField('A',IntegerType(), True),\n",
        "        StructField('B',IntegerType(), True),\n",
        "        StructField('C',DecimalType(2,0), True),\n",
        "        StructField('D',DecimalType(2,0), True),\n",
        "        StructField('Spoiled',DecimalType(2,0), True),\n",
        "   ]\n",
        ")\n",
        "\n",
        "#Creacion de schema data_schema\n",
        "hack_data_schema = StructType(\n",
        "    [\n",
        "        StructField('Session_Connection_Time', DecimalType(10,2), True),\n",
        "        StructField('Bytes Transferred',DecimalType(10,2), True),\n",
        "        StructField('Kali_Trace_Used', IntegerType(), True),\n",
        "        StructField('Servers_Corrupted',DecimalType(10,2), True),\n",
        "        StructField('Pages_Corrupted',DecimalType(10,2), True),\n",
        "        StructField('Location', StringType(), True),\n",
        "        StructField('WPM_Typing_Speed',DecimalType(10,2), True),\n",
        "   ]\n",
        ")"
      ],
      "metadata": {
        "id": "D4jA5lNftvo0"
      },
      "execution_count": 39,
      "outputs": []
    },
    {
      "cell_type": "code",
      "source": [
        "#Asignar datas a data frame con esquema\n",
        "df_dog_food = spark.read.csv(dog_food, header=True, schema=dog_food_schema) \n",
        "df_hack_data = spark.read.csv(hack_data, header=True, schema=hack_data_schema)  "
      ],
      "metadata": {
        "id": "X3hNoCuHuEz1"
      },
      "execution_count": 40,
      "outputs": []
    },
    {
      "cell_type": "code",
      "source": [
        "#Verificando que no existan valores null y saber tipos de datos en df_dog_food\n",
        "df_dog_food.groupBy(col('A'),col('B'),col('C'),col('D'),col('Spoiled')).count().show()"
      ],
      "metadata": {
        "colab": {
          "base_uri": "https://localhost:8080/"
        },
        "id": "sHEAnNo0xX0h",
        "outputId": "26e11154-34a6-41cd-9443-1108b3cde74d"
      },
      "execution_count": 41,
      "outputs": [
        {
          "output_type": "stream",
          "name": "stdout",
          "text": [
            "+---+---+---+---+-------+-----+\n",
            "|  A|  B|  C|  D|Spoiled|count|\n",
            "+---+---+---+---+-------+-----+\n",
            "| 10|  5| 11|  2|      1|    1|\n",
            "|  5| 10|  7|  1|      0|    1|\n",
            "| 10|  9|  8| 10|      0|    1|\n",
            "|  9|  1|  9|  3|      0|    1|\n",
            "|  4|  2| 12|  3|      1|    2|\n",
            "| 10|  1| 11|  3|      1|    1|\n",
            "|  8|  1|  8|  3|      0|    1|\n",
            "|  7|  7|  8|  9|      0|    1|\n",
            "|  9|  9|  9|  6|      0|    1|\n",
            "|  4|  4|  8|  7|      0|    1|\n",
            "|  5|  9|  8|  5|      0|    1|\n",
            "|  2|  3|  7| 10|      0|    1|\n",
            "|  1|  3|  8|  3|      0|    1|\n",
            "| 10|  9| 11|  9|      1|    1|\n",
            "|  8|  2| 13| 10|      1|    1|\n",
            "|  6|  4| 12|  2|      1|    1|\n",
            "|  6|  9| 11|  2|      1|    1|\n",
            "|  2|  9|  6|  4|      0|    1|\n",
            "| 10|  6|  8|  6|      0|    1|\n",
            "|  4|  7|  8|  3|      0|    1|\n",
            "+---+---+---+---+-------+-----+\n",
            "only showing top 20 rows\n",
            "\n"
          ]
        }
      ]
    },
    {
      "cell_type": "code",
      "source": [
        "#Verificando que no existan valores null y saber tipos de datos en df_hack_data\n",
        "df_hack_data.groupBy(col('Session_Connection_Time'), col('Bytes Transferred'),col('Kali_Trace_Used'),\n",
        "                     col('Servers_Corrupted'),col('Pages_Corrupted'),col('Location'),col('WPM_Typing_Speed')\n",
        ").count().show(10)"
      ],
      "metadata": {
        "colab": {
          "base_uri": "https://localhost:8080/"
        },
        "id": "YrQPh1-ay-za",
        "outputId": "6b3fc6c4-5927-4c9a-b03a-2ab6833cfb1d"
      },
      "execution_count": 42,
      "outputs": [
        {
          "output_type": "stream",
          "name": "stdout",
          "text": [
            "+-----------------------+-----------------+---------------+-----------------+---------------+--------------+----------------+-----+\n",
            "|Session_Connection_Time|Bytes Transferred|Kali_Trace_Used|Servers_Corrupted|Pages_Corrupted|      Location|WPM_Typing_Speed|count|\n",
            "+-----------------------+-----------------+---------------+-----------------+---------------+--------------+----------------+-----+\n",
            "|                  15.00|           548.83|              1|             3.78|           7.00|       Bahamas|           68.53|    1|\n",
            "|                  12.00|           424.83|              1|             2.53|           8.00|    Bangladesh|           69.99|    1|\n",
            "|                  39.00|           861.74|              1|             6.82|          14.00|United Kingdom|           41.61|    1|\n",
            "|                  17.00|           602.46|              1|             4.87|           9.00|         Sudan|           70.26|    1|\n",
            "|                  18.00|           393.15|              0|             2.25|           8.00|        Guyana|           70.87|    1|\n",
            "|                  49.00|          1330.50|              1|             7.96|          13.00|       Andorra|           42.56|    1|\n",
            "|                  48.00|           957.19|              1|             6.95|          13.00|        Guyana|           43.43|    1|\n",
            "|                  55.00|           595.19|              0|             8.04|          14.00|Western Sahara|           45.14|    1|\n",
            "|                  31.00|           962.50|              1|             6.54|          14.00|Czech Republic|           44.50|    1|\n",
            "|                  47.00|           897.11|              0|             8.33|          15.00|        Rwanda|           45.40|    1|\n",
            "+-----------------------+-----------------+---------------+-----------------+---------------+--------------+----------------+-----+\n",
            "only showing top 10 rows\n",
            "\n"
          ]
        }
      ]
    },
    {
      "cell_type": "markdown",
      "source": [
        "###Visualizacion de la data"
      ],
      "metadata": {
        "id": "uXEQZ_Zls_j-"
      }
    },
    {
      "cell_type": "code",
      "source": [
        "df_dog_food.show()"
      ],
      "metadata": {
        "colab": {
          "base_uri": "https://localhost:8080/"
        },
        "id": "hpXtZc_c972o",
        "outputId": "30f89991-84e6-46eb-a12d-454bb508d3d5"
      },
      "execution_count": 43,
      "outputs": [
        {
          "output_type": "stream",
          "name": "stdout",
          "text": [
            "+---+---+---+---+-------+\n",
            "|  A|  B|  C|  D|Spoiled|\n",
            "+---+---+---+---+-------+\n",
            "|  4|  2| 12|  3|      1|\n",
            "|  5|  6| 12|  7|      1|\n",
            "|  6|  2| 13|  6|      1|\n",
            "|  4|  2| 12|  1|      1|\n",
            "|  4|  2| 12|  3|      1|\n",
            "| 10|  3| 13|  9|      1|\n",
            "|  8|  5| 14|  5|      1|\n",
            "|  5|  8| 12|  8|      1|\n",
            "|  6|  5| 12|  9|      1|\n",
            "|  3|  3| 12|  1|      1|\n",
            "|  9|  8| 11|  3|      1|\n",
            "|  1| 10| 12|  3|      1|\n",
            "|  1|  5| 13| 10|      1|\n",
            "|  2| 10| 12|  6|      1|\n",
            "|  1| 10| 11|  4|      1|\n",
            "|  5|  3| 12|  2|      1|\n",
            "|  4|  9| 11|  8|      1|\n",
            "|  5|  1| 11|  1|      1|\n",
            "|  4|  9| 12| 10|      1|\n",
            "|  5|  8| 10|  9|      1|\n",
            "+---+---+---+---+-------+\n",
            "only showing top 20 rows\n",
            "\n"
          ]
        }
      ]
    },
    {
      "cell_type": "code",
      "source": [
        "df_dog_food.printSchema()"
      ],
      "metadata": {
        "colab": {
          "base_uri": "https://localhost:8080/"
        },
        "id": "Ow9b038MtFRX",
        "outputId": "565b9607-ebf3-4dc1-b04d-d3c0bef10b2f"
      },
      "execution_count": 44,
      "outputs": [
        {
          "output_type": "stream",
          "name": "stdout",
          "text": [
            "root\n",
            " |-- A: integer (nullable = true)\n",
            " |-- B: integer (nullable = true)\n",
            " |-- C: decimal(2,0) (nullable = true)\n",
            " |-- D: decimal(2,0) (nullable = true)\n",
            " |-- Spoiled: decimal(2,0) (nullable = true)\n",
            "\n"
          ]
        }
      ]
    },
    {
      "cell_type": "code",
      "source": [
        "df_hack_data.show()"
      ],
      "metadata": {
        "colab": {
          "base_uri": "https://localhost:8080/"
        },
        "id": "lNPJVfL4975Y",
        "outputId": "3dd9c641-cd54-4d4c-ebd9-0d31ab1063bd"
      },
      "execution_count": 45,
      "outputs": [
        {
          "output_type": "stream",
          "name": "stdout",
          "text": [
            "+-----------------------+-----------------+---------------+-----------------+---------------+--------------------+----------------+\n",
            "|Session_Connection_Time|Bytes Transferred|Kali_Trace_Used|Servers_Corrupted|Pages_Corrupted|            Location|WPM_Typing_Speed|\n",
            "+-----------------------+-----------------+---------------+-----------------+---------------+--------------------+----------------+\n",
            "|                   8.00|           391.09|              1|             2.96|           7.00|            Slovenia|           72.37|\n",
            "|                  20.00|           720.99|              0|             3.04|           9.00|British Virgin Is...|           69.08|\n",
            "|                  31.00|           356.32|              1|             3.71|           8.00|             Tokelau|           70.58|\n",
            "|                   2.00|           228.08|              1|             2.48|           8.00|             Bolivia|           70.80|\n",
            "|                  20.00|           408.50|              0|             3.57|           8.00|                Iraq|           71.28|\n",
            "|                   1.00|           390.69|              1|             2.79|           9.00|    Marshall Islands|           71.57|\n",
            "|                  18.00|           342.97|              1|             5.10|           7.00|             Georgia|           72.32|\n",
            "|                  22.00|           101.61|              1|             3.03|           7.00|         Timor-Leste|           72.03|\n",
            "|                  15.00|           275.53|              1|             3.53|           8.00|Palestinian Terri...|           70.17|\n",
            "|                  12.00|           424.83|              1|             2.53|           8.00|          Bangladesh|           69.99|\n",
            "|                  15.00|           249.09|              1|             3.39|           9.00|Northern Mariana ...|           70.77|\n",
            "|                  32.00|           242.48|              0|             4.24|           8.00|            Zimbabwe|           67.93|\n",
            "|                  23.00|           514.54|              0|             3.18|           8.00|         Isle of Man|           68.56|\n",
            "|                   9.00|           284.77|              0|             3.12|           9.00|Sao Tome and Prin...|           70.82|\n",
            "|                  27.00|           779.25|              1|             2.37|           8.00|              Greece|           72.73|\n",
            "|                  12.00|           307.31|              1|             3.22|           7.00|     Solomon Islands|           67.95|\n",
            "|                  21.00|           355.94|              1|             2.00|           7.00|       Guinea-Bissau|           72.00|\n",
            "|                  10.00|           372.65|              0|             3.33|           7.00|        Burkina Faso|           69.19|\n",
            "|                  20.00|           347.23|              1|             2.33|           7.00|            Mongolia|           70.41|\n",
            "|                  22.00|           456.57|              0|             1.52|           8.00|             Nigeria|           69.35|\n",
            "+-----------------------+-----------------+---------------+-----------------+---------------+--------------------+----------------+\n",
            "only showing top 20 rows\n",
            "\n"
          ]
        }
      ]
    },
    {
      "cell_type": "code",
      "source": [
        "df_hack_data.printSchema()"
      ],
      "metadata": {
        "colab": {
          "base_uri": "https://localhost:8080/"
        },
        "id": "8gQyxTJTwP0C",
        "outputId": "3d7be34f-2710-4361-da7e-d69a6e4fa788"
      },
      "execution_count": 46,
      "outputs": [
        {
          "output_type": "stream",
          "name": "stdout",
          "text": [
            "root\n",
            " |-- Session_Connection_Time: decimal(10,2) (nullable = true)\n",
            " |-- Bytes Transferred: decimal(10,2) (nullable = true)\n",
            " |-- Kali_Trace_Used: integer (nullable = true)\n",
            " |-- Servers_Corrupted: decimal(10,2) (nullable = true)\n",
            " |-- Pages_Corrupted: decimal(10,2) (nullable = true)\n",
            " |-- Location: string (nullable = true)\n",
            " |-- WPM_Typing_Speed: decimal(10,2) (nullable = true)\n",
            "\n"
          ]
        }
      ]
    },
    {
      "cell_type": "markdown",
      "source": [
        "##Random Forest"
      ],
      "metadata": {
        "id": "XH9q80n51PyH"
      }
    },
    {
      "cell_type": "code",
      "source": [
        "from pyspark.ml import Pipeline\n",
        "from pyspark.ml.classification import RandomForestClassifier\n",
        "from pyspark.ml.feature import IndexToString, StringIndexer, VectorIndexer\n",
        "from pyspark.ml.evaluation import MulticlassClassificationEvaluator\n",
        "from pyspark.ml.linalg import Vectors\n",
        "from pyspark.ml.feature import VectorAssembler"
      ],
      "metadata": {
        "id": "X9nbCLuQ978S"
      },
      "execution_count": 47,
      "outputs": []
    },
    {
      "cell_type": "code",
      "source": [
        "df_dog_food.show(10)"
      ],
      "metadata": {
        "colab": {
          "base_uri": "https://localhost:8080/"
        },
        "id": "q1otCXF69Ih7",
        "outputId": "b7135918-41d7-449e-c5f5-05def160b574"
      },
      "execution_count": 48,
      "outputs": [
        {
          "output_type": "stream",
          "name": "stdout",
          "text": [
            "+---+---+---+---+-------+\n",
            "|  A|  B|  C|  D|Spoiled|\n",
            "+---+---+---+---+-------+\n",
            "|  4|  2| 12|  3|      1|\n",
            "|  5|  6| 12|  7|      1|\n",
            "|  6|  2| 13|  6|      1|\n",
            "|  4|  2| 12|  1|      1|\n",
            "|  4|  2| 12|  3|      1|\n",
            "| 10|  3| 13|  9|      1|\n",
            "|  8|  5| 14|  5|      1|\n",
            "|  5|  8| 12|  8|      1|\n",
            "|  6|  5| 12|  9|      1|\n",
            "|  3|  3| 12|  1|      1|\n",
            "+---+---+---+---+-------+\n",
            "only showing top 10 rows\n",
            "\n"
          ]
        }
      ]
    },
    {
      "cell_type": "code",
      "source": [
        "print(f'Filas: {df_dog_food.count()}, Columnas:{len(df_dog_food.columns)}')"
      ],
      "metadata": {
        "colab": {
          "base_uri": "https://localhost:8080/"
        },
        "id": "LQRQBRwM1n62",
        "outputId": "c52d21d9-638d-4304-825b-64078842b972"
      },
      "execution_count": 49,
      "outputs": [
        {
          "output_type": "stream",
          "name": "stdout",
          "text": [
            "Filas: 490, Columnas:5\n"
          ]
        }
      ]
    },
    {
      "cell_type": "code",
      "source": [
        "df_dog_food.describe().show()"
      ],
      "metadata": {
        "colab": {
          "base_uri": "https://localhost:8080/"
        },
        "id": "8FuerNgLBsfT",
        "outputId": "6a1057d3-3f63-4fa5-92ec-9062ccb20d3c"
      },
      "execution_count": 50,
      "outputs": [
        {
          "output_type": "stream",
          "name": "stdout",
          "text": [
            "+-------+------------------+------------------+------------------+------------------+-------------------+\n",
            "|summary|                 A|                 B|                 C|                 D|            Spoiled|\n",
            "+-------+------------------+------------------+------------------+------------------+-------------------+\n",
            "|  count|               490|               490|               490|               490|                490|\n",
            "|   mean|  5.53469387755102| 5.504081632653061|            9.1265|            5.5796|             0.2857|\n",
            "| stddev|2.9515204234399057|2.8537966089662063|2.0555451971054275|2.8548369309982857|0.45221563164613465|\n",
            "|    min|                 1|                 1|                 5|                 1|                  0|\n",
            "|    max|                10|                10|                14|                10|                  1|\n",
            "+-------+------------------+------------------+------------------+------------------+-------------------+\n",
            "\n"
          ]
        }
      ]
    },
    {
      "cell_type": "code",
      "source": [
        "df_dog_food.groupBy(\"Spoiled\").count().show()"
      ],
      "metadata": {
        "colab": {
          "base_uri": "https://localhost:8080/"
        },
        "id": "EJ7NL8G0CLh_",
        "outputId": "38573087-1376-4f05-85d9-6c3c18d6761e"
      },
      "execution_count": 52,
      "outputs": [
        {
          "output_type": "stream",
          "name": "stdout",
          "text": [
            "+-------+-----+\n",
            "|Spoiled|count|\n",
            "+-------+-----+\n",
            "|      0|  350|\n",
            "|      1|  140|\n",
            "+-------+-----+\n",
            "\n"
          ]
        }
      ]
    },
    {
      "cell_type": "code",
      "source": [
        "df_dog_food.columns"
      ],
      "metadata": {
        "colab": {
          "base_uri": "https://localhost:8080/"
        },
        "id": "kNWT5GRBCe67",
        "outputId": "bf13354c-e7ac-4eaa-c830-77b15d9bd02b"
      },
      "execution_count": 53,
      "outputs": [
        {
          "output_type": "execute_result",
          "data": {
            "text/plain": [
              "['A', 'B', 'C', 'D', 'Spoiled']"
            ]
          },
          "metadata": {},
          "execution_count": 53
        }
      ]
    },
    {
      "cell_type": "code",
      "source": [
        "assembler = VectorAssembler(\n",
        "    inputCols=['A',\n",
        "               'B',\n",
        "               'C',\n",
        "               'D'],\n",
        "               outputCol='features')"
      ],
      "metadata": {
        "id": "Ph-2IefyChmV"
      },
      "execution_count": 54,
      "outputs": []
    },
    {
      "cell_type": "code",
      "source": [
        "assembler"
      ],
      "metadata": {
        "id": "g5nlQZZ7ChuD",
        "colab": {
          "base_uri": "https://localhost:8080/"
        },
        "outputId": "014c583f-b5ef-4540-d9f4-225a7afad326"
      },
      "execution_count": 55,
      "outputs": [
        {
          "output_type": "execute_result",
          "data": {
            "text/plain": [
              "VectorAssembler_73b9ea7f53a0"
            ]
          },
          "metadata": {},
          "execution_count": 55
        }
      ]
    },
    {
      "cell_type": "code",
      "source": [
        "output = assembler.transform(df_dog_food)\n",
        "output.show()"
      ],
      "metadata": {
        "id": "mCjrPENmCh0I",
        "colab": {
          "base_uri": "https://localhost:8080/"
        },
        "outputId": "22d432b4-df6f-41a5-950c-40e0a200a264"
      },
      "execution_count": 56,
      "outputs": [
        {
          "output_type": "stream",
          "name": "stdout",
          "text": [
            "+---+---+---+---+-------+-------------------+\n",
            "|  A|  B|  C|  D|Spoiled|           features|\n",
            "+---+---+---+---+-------+-------------------+\n",
            "|  4|  2| 12|  3|      1| [4.0,2.0,12.0,3.0]|\n",
            "|  5|  6| 12|  7|      1| [5.0,6.0,12.0,7.0]|\n",
            "|  6|  2| 13|  6|      1| [6.0,2.0,13.0,6.0]|\n",
            "|  4|  2| 12|  1|      1| [4.0,2.0,12.0,1.0]|\n",
            "|  4|  2| 12|  3|      1| [4.0,2.0,12.0,3.0]|\n",
            "| 10|  3| 13|  9|      1|[10.0,3.0,13.0,9.0]|\n",
            "|  8|  5| 14|  5|      1| [8.0,5.0,14.0,5.0]|\n",
            "|  5|  8| 12|  8|      1| [5.0,8.0,12.0,8.0]|\n",
            "|  6|  5| 12|  9|      1| [6.0,5.0,12.0,9.0]|\n",
            "|  3|  3| 12|  1|      1| [3.0,3.0,12.0,1.0]|\n",
            "|  9|  8| 11|  3|      1| [9.0,8.0,11.0,3.0]|\n",
            "|  1| 10| 12|  3|      1|[1.0,10.0,12.0,3.0]|\n",
            "|  1|  5| 13| 10|      1|[1.0,5.0,13.0,10.0]|\n",
            "|  2| 10| 12|  6|      1|[2.0,10.0,12.0,6.0]|\n",
            "|  1| 10| 11|  4|      1|[1.0,10.0,11.0,4.0]|\n",
            "|  5|  3| 12|  2|      1| [5.0,3.0,12.0,2.0]|\n",
            "|  4|  9| 11|  8|      1| [4.0,9.0,11.0,8.0]|\n",
            "|  5|  1| 11|  1|      1| [5.0,1.0,11.0,1.0]|\n",
            "|  4|  9| 12| 10|      1|[4.0,9.0,12.0,10.0]|\n",
            "|  5|  8| 10|  9|      1| [5.0,8.0,10.0,9.0]|\n",
            "+---+---+---+---+-------+-------------------+\n",
            "only showing top 20 rows\n",
            "\n"
          ]
        }
      ]
    },
    {
      "cell_type": "code",
      "source": [
        "df_model = output.select(['features', 'Spoiled'])"
      ],
      "metadata": {
        "id": "CaDiPABBCh3T"
      },
      "execution_count": 57,
      "outputs": []
    },
    {
      "cell_type": "code",
      "source": [
        "training_df, test_df = df_model.randomSplit([0.7,0.3])"
      ],
      "metadata": {
        "id": "eUslSOqoCh6a"
      },
      "execution_count": 58,
      "outputs": []
    },
    {
      "cell_type": "code",
      "source": [
        "print(f'''\\nCantidad registros Test: {test_df.count()}\n",
        "      \\nCantidad registro Training:{training_df.count()}''')"
      ],
      "metadata": {
        "id": "Nn_LriHhCh8u",
        "colab": {
          "base_uri": "https://localhost:8080/"
        },
        "outputId": "174529fc-31b0-45c1-cdf8-28cc78c92a67"
      },
      "execution_count": 64,
      "outputs": [
        {
          "output_type": "stream",
          "name": "stdout",
          "text": [
            "\n",
            "Cantidad registros Test: 156\n",
            "      \n",
            "Cantidad registro Training:334\n"
          ]
        }
      ]
    },
    {
      "cell_type": "code",
      "source": [
        "print(training_df.count())"
      ],
      "metadata": {
        "id": "W9feFDyBLT0p",
        "colab": {
          "base_uri": "https://localhost:8080/"
        },
        "outputId": "3c950fa2-b4ba-4c4b-d843-5fd925f44d98"
      },
      "execution_count": 351,
      "outputs": [
        {
          "output_type": "stream",
          "name": "stdout",
          "text": [
            "346\n"
          ]
        }
      ]
    },
    {
      "cell_type": "code",
      "source": [
        "rf_classifer = RandomForestClassifier(labelCol='Spoiled', numTrees=30).fit(training_df)"
      ],
      "metadata": {
        "id": "L0VjR8Q-LTn-"
      },
      "execution_count": 82,
      "outputs": []
    },
    {
      "cell_type": "code",
      "source": [
        "rf_predictions = rf_classifer.transform(test_df)"
      ],
      "metadata": {
        "id": "31b0fdnfT49D"
      },
      "execution_count": 83,
      "outputs": []
    },
    {
      "cell_type": "code",
      "source": [
        "rf_predictions.show()"
      ],
      "metadata": {
        "colab": {
          "base_uri": "https://localhost:8080/"
        },
        "id": "A4jy8HSDT4_3",
        "outputId": "cc24a522-af4e-44de-e7de-0c51ae0afa4d"
      },
      "execution_count": 84,
      "outputs": [
        {
          "output_type": "stream",
          "name": "stdout",
          "text": [
            "+-------------------+-------+--------------------+--------------------+----------+\n",
            "|           features|Spoiled|       rawPrediction|         probability|prediction|\n",
            "+-------------------+-------+--------------------+--------------------+----------+\n",
            "| [1.0,1.0,13.0,3.0]|      1|[0.85365853658536...|[0.02845528455284...|       1.0|\n",
            "|  [1.0,2.0,9.0,1.0]|      0|[29.7296015796813...|[0.99098671932271...|       0.0|\n",
            "|  [1.0,3.0,8.0,5.0]|      0|[29.7166073629119...|[0.99055357876373...|       0.0|\n",
            "|  [1.0,5.0,8.0,5.0]|      0|[29.7166073629119...|[0.99055357876373...|       0.0|\n",
            "| [1.0,5.0,8.0,10.0]|      0|[25.9577253814147...|[0.86525751271382...|       0.0|\n",
            "|[1.0,5.0,12.0,10.0]|      1|          [0.0,30.0]|           [0.0,1.0]|       1.0|\n",
            "|  [1.0,6.0,7.0,8.0]|      0|[29.9424810213940...|[0.99808270071313...|       0.0|\n",
            "|  [1.0,7.0,7.0,2.0]|      0|[29.7881395579794...|[0.99293798526598...|       0.0|\n",
            "|  [1.0,7.0,8.0,2.0]|      0|[29.7881395579794...|[0.99293798526598...|       0.0|\n",
            "| [1.0,8.0,7.0,10.0]|      0|[25.9771428571428...|[0.86590476190476...|       0.0|\n",
            "|  [1.0,8.0,8.0,8.0]|      0|[29.9424810213940...|[0.99808270071313...|       0.0|\n",
            "|  [1.0,9.0,9.0,7.0]|      0|[28.8189967008365...|[0.96063322336121...|       0.0|\n",
            "|[1.0,10.0,12.0,3.0]|      1|          [1.0,29.0]|[0.03333333333333...|       1.0|\n",
            "|  [2.0,1.0,7.0,9.0]|      0|[29.8895255673677...|[0.99631751891225...|       0.0|\n",
            "|  [2.0,1.0,8.0,9.0]|      0|[29.8895255673677...|[0.99631751891225...|       0.0|\n",
            "| [2.0,2.0,6.0,10.0]|      0|[29.9283136167088...|[0.99761045389029...|       0.0|\n",
            "|  [2.0,2.0,7.0,8.0]|      0|[29.8645255673677...|[0.99548418557892...|       0.0|\n",
            "|  [2.0,3.0,9.0,3.0]|      0|[29.7166073629119...|[0.99055357876373...|       0.0|\n",
            "|  [2.0,5.0,8.0,1.0]|      0|[29.7590133443871...|[0.99196711147957...|       0.0|\n",
            "|  [2.0,6.0,6.0,9.0]|      0|[29.9674810213940...|[0.99891603404646...|       0.0|\n",
            "+-------------------+-------+--------------------+--------------------+----------+\n",
            "only showing top 20 rows\n",
            "\n"
          ]
        }
      ]
    },
    {
      "cell_type": "code",
      "source": [
        "from pyspark.ml.evaluation import BinaryClassificationEvaluator"
      ],
      "metadata": {
        "id": "WjDy_d_RWqMv"
      },
      "execution_count": 85,
      "outputs": []
    },
    {
      "cell_type": "code",
      "source": [
        "#BinaryClassificationEvaluator\n",
        "rf_auc = BinaryClassificationEvaluator(labelCol='Spoiled').evaluate(rf_predictions)"
      ],
      "metadata": {
        "id": "lH0oiUbdT5C0"
      },
      "execution_count": 86,
      "outputs": []
    },
    {
      "cell_type": "code",
      "source": [
        "#valor con 30 arboles rf_auc= 0.9722163308589608 La prediccion es muy buena \n",
        "rf_auc"
      ],
      "metadata": {
        "colab": {
          "base_uri": "https://localhost:8080/"
        },
        "id": "22lNev2NT5Fm",
        "outputId": "e24ae158-6725-4a6e-fa5e-def4ca416791"
      },
      "execution_count": 87,
      "outputs": [
        {
          "output_type": "execute_result",
          "data": {
            "text/plain": [
              "0.9722163308589608"
            ]
          },
          "metadata": {},
          "execution_count": 87
        }
      ]
    },
    {
      "cell_type": "code",
      "source": [
        "rf_classifer.featureImportances"
      ],
      "metadata": {
        "colab": {
          "base_uri": "https://localhost:8080/"
        },
        "id": "h1f6G1irT5IT",
        "outputId": "1bbc4e63-ca58-4202-a0b9-31877648a074"
      },
      "execution_count": 88,
      "outputs": [
        {
          "output_type": "execute_result",
          "data": {
            "text/plain": [
              "SparseVector(4, {0: 0.0217, 1: 0.0146, 2: 0.9381, 3: 0.0255})"
            ]
          },
          "metadata": {},
          "execution_count": 88
        }
      ]
    },
    {
      "cell_type": "markdown",
      "source": [
        "##Clustering"
      ],
      "metadata": {
        "id": "FvZIsfLyHImv"
      }
    },
    {
      "cell_type": "code",
      "source": [
        "df_hack_data.printSchema()"
      ],
      "metadata": {
        "id": "aQ17IArT97-3",
        "colab": {
          "base_uri": "https://localhost:8080/"
        },
        "outputId": "37aa7e7f-bfa1-4876-c261-d1291f748dd7"
      },
      "execution_count": 90,
      "outputs": [
        {
          "output_type": "stream",
          "name": "stdout",
          "text": [
            "root\n",
            " |-- Session_Connection_Time: decimal(10,2) (nullable = true)\n",
            " |-- Bytes Transferred: decimal(10,2) (nullable = true)\n",
            " |-- Kali_Trace_Used: integer (nullable = true)\n",
            " |-- Servers_Corrupted: decimal(10,2) (nullable = true)\n",
            " |-- Pages_Corrupted: decimal(10,2) (nullable = true)\n",
            " |-- Location: string (nullable = true)\n",
            " |-- WPM_Typing_Speed: decimal(10,2) (nullable = true)\n",
            "\n"
          ]
        }
      ]
    },
    {
      "cell_type": "code",
      "source": [
        "df_hack_data.show()"
      ],
      "metadata": {
        "id": "LHmEKUbTw_Hp",
        "colab": {
          "base_uri": "https://localhost:8080/"
        },
        "outputId": "3ad77a7f-4f25-4985-e938-40d4c74959c9"
      },
      "execution_count": 91,
      "outputs": [
        {
          "output_type": "stream",
          "name": "stdout",
          "text": [
            "+-----------------------+-----------------+---------------+-----------------+---------------+--------------------+----------------+\n",
            "|Session_Connection_Time|Bytes Transferred|Kali_Trace_Used|Servers_Corrupted|Pages_Corrupted|            Location|WPM_Typing_Speed|\n",
            "+-----------------------+-----------------+---------------+-----------------+---------------+--------------------+----------------+\n",
            "|                   8.00|           391.09|              1|             2.96|           7.00|            Slovenia|           72.37|\n",
            "|                  20.00|           720.99|              0|             3.04|           9.00|British Virgin Is...|           69.08|\n",
            "|                  31.00|           356.32|              1|             3.71|           8.00|             Tokelau|           70.58|\n",
            "|                   2.00|           228.08|              1|             2.48|           8.00|             Bolivia|           70.80|\n",
            "|                  20.00|           408.50|              0|             3.57|           8.00|                Iraq|           71.28|\n",
            "|                   1.00|           390.69|              1|             2.79|           9.00|    Marshall Islands|           71.57|\n",
            "|                  18.00|           342.97|              1|             5.10|           7.00|             Georgia|           72.32|\n",
            "|                  22.00|           101.61|              1|             3.03|           7.00|         Timor-Leste|           72.03|\n",
            "|                  15.00|           275.53|              1|             3.53|           8.00|Palestinian Terri...|           70.17|\n",
            "|                  12.00|           424.83|              1|             2.53|           8.00|          Bangladesh|           69.99|\n",
            "|                  15.00|           249.09|              1|             3.39|           9.00|Northern Mariana ...|           70.77|\n",
            "|                  32.00|           242.48|              0|             4.24|           8.00|            Zimbabwe|           67.93|\n",
            "|                  23.00|           514.54|              0|             3.18|           8.00|         Isle of Man|           68.56|\n",
            "|                   9.00|           284.77|              0|             3.12|           9.00|Sao Tome and Prin...|           70.82|\n",
            "|                  27.00|           779.25|              1|             2.37|           8.00|              Greece|           72.73|\n",
            "|                  12.00|           307.31|              1|             3.22|           7.00|     Solomon Islands|           67.95|\n",
            "|                  21.00|           355.94|              1|             2.00|           7.00|       Guinea-Bissau|           72.00|\n",
            "|                  10.00|           372.65|              0|             3.33|           7.00|        Burkina Faso|           69.19|\n",
            "|                  20.00|           347.23|              1|             2.33|           7.00|            Mongolia|           70.41|\n",
            "|                  22.00|           456.57|              0|             1.52|           8.00|             Nigeria|           69.35|\n",
            "+-----------------------+-----------------+---------------+-----------------+---------------+--------------------+----------------+\n",
            "only showing top 20 rows\n",
            "\n"
          ]
        }
      ]
    },
    {
      "cell_type": "code",
      "source": [
        "df_hack_data.columns"
      ],
      "metadata": {
        "colab": {
          "base_uri": "https://localhost:8080/"
        },
        "id": "y2ue3Uhndu6j",
        "outputId": "fc57a26f-9722-4bda-bfc5-a23267d26669"
      },
      "execution_count": 92,
      "outputs": [
        {
          "output_type": "execute_result",
          "data": {
            "text/plain": [
              "['Session_Connection_Time',\n",
              " 'Bytes Transferred',\n",
              " 'Kali_Trace_Used',\n",
              " 'Servers_Corrupted',\n",
              " 'Pages_Corrupted',\n",
              " 'Location',\n",
              " 'WPM_Typing_Speed']"
            ]
          },
          "metadata": {},
          "execution_count": 92
        }
      ]
    },
    {
      "cell_type": "code",
      "source": [
        "'''No se tomara la columna Location\n",
        "Ubicación desde la que se produjo el ataque (probablemente inútil porque los hackers utilizaron VPNs'''\n",
        "\n",
        "assembler_hack = VectorAssembler(\n",
        "    inputCols=['Session_Connection_Time',\n",
        "               'Bytes Transferred',\n",
        "               'Kali_Trace_Used',\n",
        "               'Servers_Corrupted',\n",
        "               'Pages_Corrupted',\n",
        "               'WPM_Typing_Speed'],\n",
        "               outputCol='features')\n",
        "\n"
      ],
      "metadata": {
        "id": "LPKz6vYyd5An"
      },
      "execution_count": 93,
      "outputs": []
    },
    {
      "cell_type": "code",
      "source": [
        "output_hack = assembler_hack.transform(df_hack_data)\n",
        "output_hack.show()"
      ],
      "metadata": {
        "colab": {
          "base_uri": "https://localhost:8080/"
        },
        "id": "lAji-Fg0eooT",
        "outputId": "221b22fb-81c4-4100-9d85-70170a72c36d"
      },
      "execution_count": 94,
      "outputs": [
        {
          "output_type": "stream",
          "name": "stdout",
          "text": [
            "+-----------------------+-----------------+---------------+-----------------+---------------+--------------------+----------------+--------------------+\n",
            "|Session_Connection_Time|Bytes Transferred|Kali_Trace_Used|Servers_Corrupted|Pages_Corrupted|            Location|WPM_Typing_Speed|            features|\n",
            "+-----------------------+-----------------+---------------+-----------------+---------------+--------------------+----------------+--------------------+\n",
            "|                   8.00|           391.09|              1|             2.96|           7.00|            Slovenia|           72.37|[8.0,391.09,1.0,2...|\n",
            "|                  20.00|           720.99|              0|             3.04|           9.00|British Virgin Is...|           69.08|[20.0,720.99,0.0,...|\n",
            "|                  31.00|           356.32|              1|             3.71|           8.00|             Tokelau|           70.58|[31.0,356.32,1.0,...|\n",
            "|                   2.00|           228.08|              1|             2.48|           8.00|             Bolivia|           70.80|[2.0,228.08,1.0,2...|\n",
            "|                  20.00|           408.50|              0|             3.57|           8.00|                Iraq|           71.28|[20.0,408.5,0.0,3...|\n",
            "|                   1.00|           390.69|              1|             2.79|           9.00|    Marshall Islands|           71.57|[1.0,390.69,1.0,2...|\n",
            "|                  18.00|           342.97|              1|             5.10|           7.00|             Georgia|           72.32|[18.0,342.97,1.0,...|\n",
            "|                  22.00|           101.61|              1|             3.03|           7.00|         Timor-Leste|           72.03|[22.0,101.61,1.0,...|\n",
            "|                  15.00|           275.53|              1|             3.53|           8.00|Palestinian Terri...|           70.17|[15.0,275.53,1.0,...|\n",
            "|                  12.00|           424.83|              1|             2.53|           8.00|          Bangladesh|           69.99|[12.0,424.83,1.0,...|\n",
            "|                  15.00|           249.09|              1|             3.39|           9.00|Northern Mariana ...|           70.77|[15.0,249.09,1.0,...|\n",
            "|                  32.00|           242.48|              0|             4.24|           8.00|            Zimbabwe|           67.93|[32.0,242.48,0.0,...|\n",
            "|                  23.00|           514.54|              0|             3.18|           8.00|         Isle of Man|           68.56|[23.0,514.54,0.0,...|\n",
            "|                   9.00|           284.77|              0|             3.12|           9.00|Sao Tome and Prin...|           70.82|[9.0,284.77,0.0,3...|\n",
            "|                  27.00|           779.25|              1|             2.37|           8.00|              Greece|           72.73|[27.0,779.25,1.0,...|\n",
            "|                  12.00|           307.31|              1|             3.22|           7.00|     Solomon Islands|           67.95|[12.0,307.31,1.0,...|\n",
            "|                  21.00|           355.94|              1|             2.00|           7.00|       Guinea-Bissau|           72.00|[21.0,355.94,1.0,...|\n",
            "|                  10.00|           372.65|              0|             3.33|           7.00|        Burkina Faso|           69.19|[10.0,372.65,0.0,...|\n",
            "|                  20.00|           347.23|              1|             2.33|           7.00|            Mongolia|           70.41|[20.0,347.23,1.0,...|\n",
            "|                  22.00|           456.57|              0|             1.52|           8.00|             Nigeria|           69.35|[22.0,456.57,0.0,...|\n",
            "+-----------------------+-----------------+---------------+-----------------+---------------+--------------------+----------------+--------------------+\n",
            "only showing top 20 rows\n",
            "\n"
          ]
        }
      ]
    },
    {
      "cell_type": "code",
      "source": [
        "#Se debe estandarizar la data, esto debido a la diferencia numerica que tienen algunas columnas\n",
        "from pyspark.ml.feature import StandardScaler"
      ],
      "metadata": {
        "id": "-s5C_NxpepBy"
      },
      "execution_count": 96,
      "outputs": []
    },
    {
      "cell_type": "code",
      "source": [
        "scaler = StandardScaler(inputCol='features', outputCol='scalerFeatures', withStd=True, withMean=False)"
      ],
      "metadata": {
        "id": "hLWcBei2epEe"
      },
      "execution_count": 97,
      "outputs": []
    },
    {
      "cell_type": "code",
      "source": [
        "scalarModel = scaler.fit(output_hack)"
      ],
      "metadata": {
        "id": "jZ5mRRE2epJW"
      },
      "execution_count": 98,
      "outputs": []
    },
    {
      "cell_type": "code",
      "source": [
        "output_hack2 = scalarModel.transform(output_hack)"
      ],
      "metadata": {
        "id": "0-sEe2AugGHb"
      },
      "execution_count": 99,
      "outputs": []
    },
    {
      "cell_type": "code",
      "source": [
        "#Data lista para poder inicializar con la construccion del modelo \n",
        "output_hack2.show()"
      ],
      "metadata": {
        "colab": {
          "base_uri": "https://localhost:8080/"
        },
        "id": "HGVDKVymgGKa",
        "outputId": "6cdc57ba-d9f3-4281-97ae-46b250e3b343"
      },
      "execution_count": 101,
      "outputs": [
        {
          "output_type": "stream",
          "name": "stdout",
          "text": [
            "+-----------------------+-----------------+---------------+-----------------+---------------+--------------------+----------------+--------------------+--------------------+\n",
            "|Session_Connection_Time|Bytes Transferred|Kali_Trace_Used|Servers_Corrupted|Pages_Corrupted|            Location|WPM_Typing_Speed|            features|      scalerFeatures|\n",
            "+-----------------------+-----------------+---------------+-----------------+---------------+--------------------+----------------+--------------------+--------------------+\n",
            "|                   8.00|           391.09|              1|             2.96|           7.00|            Slovenia|           72.37|[8.0,391.09,1.0,2...|[0.56785108466505...|\n",
            "|                  20.00|           720.99|              0|             3.04|           9.00|British Virgin Is...|           69.08|[20.0,720.99,0.0,...|[1.41962771166263...|\n",
            "|                  31.00|           356.32|              1|             3.71|           8.00|             Tokelau|           70.58|[31.0,356.32,1.0,...|[2.20042295307707...|\n",
            "|                   2.00|           228.08|              1|             2.48|           8.00|             Bolivia|           70.80|[2.0,228.08,1.0,2...|[0.14196277116626...|\n",
            "|                  20.00|           408.50|              0|             3.57|           8.00|                Iraq|           71.28|[20.0,408.5,0.0,3...|[1.41962771166263...|\n",
            "|                   1.00|           390.69|              1|             2.79|           9.00|    Marshall Islands|           71.57|[1.0,390.69,1.0,2...|[0.07098138558313...|\n",
            "|                  18.00|           342.97|              1|             5.10|           7.00|             Georgia|           72.32|[18.0,342.97,1.0,...|[1.27766494049636...|\n",
            "|                  22.00|           101.61|              1|             3.03|           7.00|         Timor-Leste|           72.03|[22.0,101.61,1.0,...|[1.56159048282889...|\n",
            "|                  15.00|           275.53|              1|             3.53|           8.00|Palestinian Terri...|           70.17|[15.0,275.53,1.0,...|[1.06472078374697...|\n",
            "|                  12.00|           424.83|              1|             2.53|           8.00|          Bangladesh|           69.99|[12.0,424.83,1.0,...|[0.85177662699757...|\n",
            "|                  15.00|           249.09|              1|             3.39|           9.00|Northern Mariana ...|           70.77|[15.0,249.09,1.0,...|[1.06472078374697...|\n",
            "|                  32.00|           242.48|              0|             4.24|           8.00|            Zimbabwe|           67.93|[32.0,242.48,0.0,...|[2.27140433866020...|\n",
            "|                  23.00|           514.54|              0|             3.18|           8.00|         Isle of Man|           68.56|[23.0,514.54,0.0,...|[1.63257186841202...|\n",
            "|                   9.00|           284.77|              0|             3.12|           9.00|Sao Tome and Prin...|           70.82|[9.0,284.77,0.0,3...|[0.63883247024818...|\n",
            "|                  27.00|           779.25|              1|             2.37|           8.00|              Greece|           72.73|[27.0,779.25,1.0,...|[1.91649741074455...|\n",
            "|                  12.00|           307.31|              1|             3.22|           7.00|     Solomon Islands|           67.95|[12.0,307.31,1.0,...|[0.85177662699757...|\n",
            "|                  21.00|           355.94|              1|             2.00|           7.00|       Guinea-Bissau|           72.00|[21.0,355.94,1.0,...|[1.49060909724576...|\n",
            "|                  10.00|           372.65|              0|             3.33|           7.00|        Burkina Faso|           69.19|[10.0,372.65,0.0,...|[0.70981385583131...|\n",
            "|                  20.00|           347.23|              1|             2.33|           7.00|            Mongolia|           70.41|[20.0,347.23,1.0,...|[1.41962771166263...|\n",
            "|                  22.00|           456.57|              0|             1.52|           8.00|             Nigeria|           69.35|[22.0,456.57,0.0,...|[1.56159048282889...|\n",
            "+-----------------------+-----------------+---------------+-----------------+---------------+--------------------+----------------+--------------------+--------------------+\n",
            "only showing top 20 rows\n",
            "\n"
          ]
        }
      ]
    },
    {
      "cell_type": "code",
      "source": [
        "from pyspark.ml.clustering import KMeans"
      ],
      "metadata": {
        "id": "UI1ANJm_gsyP"
      },
      "execution_count": 102,
      "outputs": []
    },
    {
      "cell_type": "code",
      "source": [
        "kmeans = KMeans(featuresCol = 'scalerFeatures', k=3)"
      ],
      "metadata": {
        "id": "oajlxLuNgs1c"
      },
      "execution_count": 103,
      "outputs": []
    },
    {
      "cell_type": "code",
      "source": [
        "#Al estar en un modelo no supervisado (sin etiqueta) la data no se separa en entrenamiento y testing\n",
        "#entrenar modelo\n",
        "model = kmeans.fit(output_hack2)"
      ],
      "metadata": {
        "id": "qJP7oNEpgs36"
      },
      "execution_count": 105,
      "outputs": []
    },
    {
      "cell_type": "code",
      "source": [
        "#Centrides \n",
        "model.clusterCenters()"
      ],
      "metadata": {
        "colab": {
          "base_uri": "https://localhost:8080/"
        },
        "id": "og6ICanzgs8w",
        "outputId": "d62f7096-99e5-4f7c-9f40-3dd0ae3d13c1"
      },
      "execution_count": 106,
      "outputs": [
        {
          "output_type": "execute_result",
          "data": {
            "text/plain": [
              "[array([1.30217042, 1.25830099, 0.        , 1.35793211, 2.57251009,\n",
              "        5.24230473]),\n",
              " array([2.99991988, 2.92319035, 1.05261534, 3.20390443, 4.51321315,\n",
              "        3.28474   ]),\n",
              " array([1.21780112, 1.37901802, 1.99757683, 1.37198977, 2.55237797,\n",
              "        5.29152222])]"
            ]
          },
          "metadata": {},
          "execution_count": 106
        }
      ]
    },
    {
      "cell_type": "code",
      "source": [
        "pred = model.transform(output_hack2)"
      ],
      "metadata": {
        "id": "rTZbFvSmgs_h"
      },
      "execution_count": 108,
      "outputs": []
    },
    {
      "cell_type": "code",
      "source": [
        "#Todas las semillas tienen caracteristicas similares, las que son separadas por claster (semillas agrupadas segun similitud) \n",
        "pred.show()"
      ],
      "metadata": {
        "colab": {
          "base_uri": "https://localhost:8080/"
        },
        "id": "864xy7IjjODr",
        "outputId": "e2ecf729-6c1d-43ab-f0c2-ac0f0c7df06f"
      },
      "execution_count": 110,
      "outputs": [
        {
          "output_type": "stream",
          "name": "stdout",
          "text": [
            "+-----------------------+-----------------+---------------+-----------------+---------------+--------------------+----------------+--------------------+--------------------+----------+\n",
            "|Session_Connection_Time|Bytes Transferred|Kali_Trace_Used|Servers_Corrupted|Pages_Corrupted|            Location|WPM_Typing_Speed|            features|      scalerFeatures|prediction|\n",
            "+-----------------------+-----------------+---------------+-----------------+---------------+--------------------+----------------+--------------------+--------------------+----------+\n",
            "|                   8.00|           391.09|              1|             2.96|           7.00|            Slovenia|           72.37|[8.0,391.09,1.0,2...|[0.56785108466505...|         2|\n",
            "|                  20.00|           720.99|              0|             3.04|           9.00|British Virgin Is...|           69.08|[20.0,720.99,0.0,...|[1.41962771166263...|         0|\n",
            "|                  31.00|           356.32|              1|             3.71|           8.00|             Tokelau|           70.58|[31.0,356.32,1.0,...|[2.20042295307707...|         2|\n",
            "|                   2.00|           228.08|              1|             2.48|           8.00|             Bolivia|           70.80|[2.0,228.08,1.0,2...|[0.14196277116626...|         2|\n",
            "|                  20.00|           408.50|              0|             3.57|           8.00|                Iraq|           71.28|[20.0,408.5,0.0,3...|[1.41962771166263...|         0|\n",
            "|                   1.00|           390.69|              1|             2.79|           9.00|    Marshall Islands|           71.57|[1.0,390.69,1.0,2...|[0.07098138558313...|         2|\n",
            "|                  18.00|           342.97|              1|             5.10|           7.00|             Georgia|           72.32|[18.0,342.97,1.0,...|[1.27766494049636...|         2|\n",
            "|                  22.00|           101.61|              1|             3.03|           7.00|         Timor-Leste|           72.03|[22.0,101.61,1.0,...|[1.56159048282889...|         2|\n",
            "|                  15.00|           275.53|              1|             3.53|           8.00|Palestinian Terri...|           70.17|[15.0,275.53,1.0,...|[1.06472078374697...|         2|\n",
            "|                  12.00|           424.83|              1|             2.53|           8.00|          Bangladesh|           69.99|[12.0,424.83,1.0,...|[0.85177662699757...|         2|\n",
            "|                  15.00|           249.09|              1|             3.39|           9.00|Northern Mariana ...|           70.77|[15.0,249.09,1.0,...|[1.06472078374697...|         2|\n",
            "|                  32.00|           242.48|              0|             4.24|           8.00|            Zimbabwe|           67.93|[32.0,242.48,0.0,...|[2.27140433866020...|         0|\n",
            "|                  23.00|           514.54|              0|             3.18|           8.00|         Isle of Man|           68.56|[23.0,514.54,0.0,...|[1.63257186841202...|         0|\n",
            "|                   9.00|           284.77|              0|             3.12|           9.00|Sao Tome and Prin...|           70.82|[9.0,284.77,0.0,3...|[0.63883247024818...|         0|\n",
            "|                  27.00|           779.25|              1|             2.37|           8.00|              Greece|           72.73|[27.0,779.25,1.0,...|[1.91649741074455...|         2|\n",
            "|                  12.00|           307.31|              1|             3.22|           7.00|     Solomon Islands|           67.95|[12.0,307.31,1.0,...|[0.85177662699757...|         2|\n",
            "|                  21.00|           355.94|              1|             2.00|           7.00|       Guinea-Bissau|           72.00|[21.0,355.94,1.0,...|[1.49060909724576...|         2|\n",
            "|                  10.00|           372.65|              0|             3.33|           7.00|        Burkina Faso|           69.19|[10.0,372.65,0.0,...|[0.70981385583131...|         0|\n",
            "|                  20.00|           347.23|              1|             2.33|           7.00|            Mongolia|           70.41|[20.0,347.23,1.0,...|[1.41962771166263...|         2|\n",
            "|                  22.00|           456.57|              0|             1.52|           8.00|             Nigeria|           69.35|[22.0,456.57,0.0,...|[1.56159048282889...|         0|\n",
            "+-----------------------+-----------------+---------------+-----------------+---------------+--------------------+----------------+--------------------+--------------------+----------+\n",
            "only showing top 20 rows\n",
            "\n"
          ]
        }
      ]
    }
  ]
}